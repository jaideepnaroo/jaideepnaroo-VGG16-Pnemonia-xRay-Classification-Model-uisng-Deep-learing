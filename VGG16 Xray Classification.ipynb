{
 "cells": [
  {
   "cell_type": "code",
   "execution_count": 1,
   "id": "1c68a2f3",
   "metadata": {},
   "outputs": [],
   "source": [
    "from PIL import Image\n",
    "from keras.layers import Input, Lambda, Dense, Flatten\n",
    "from keras.models import Model\n",
    "from keras.applications.vgg16 import VGG16\n",
    "from keras.applications.vgg16 import preprocess_input\n",
    "from keras.preprocessing import image \n",
    "from keras.preprocessing.image import ImageDataGenerator\n",
    "from keras.models import Sequential\n",
    "from glob import glob\n",
    "import matplotlib.pyplot as plt"
   ]
  },
  {
   "cell_type": "code",
   "execution_count": 2,
   "id": "d9539a65",
   "metadata": {},
   "outputs": [],
   "source": [
    "IMAGE_SIZE = [224,224]\n",
    "train_path=r\"C:\\Users\\Jaideep Naroo\\Downloads\\archive(1)\\chest_xray\\train\"\n",
    "valid_path=r\"C:\\Users\\Jaideep Naroo\\Downloads\\archive(1)\\chest_xray\\test\"\n"
   ]
  },
  {
   "cell_type": "code",
   "execution_count": 3,
   "id": "46032498",
   "metadata": {},
   "outputs": [],
   "source": [
    "#Using Imagenet weight \n",
    "#Import the vgg vgg16 lib as shown below and add preprocessing layer to the front of VGG\n",
    "vgg = VGG16(input_shape=IMAGE_SIZE + [3], weights='imagenet', include_top= False)"
   ]
  },
  {
   "cell_type": "code",
   "execution_count": 4,
   "id": "d9eeb8cf",
   "metadata": {},
   "outputs": [],
   "source": [
    "# We will not train the existing weigths because it will change the weigths that have already been captured\n",
    "for layer in vgg.layers:\n",
    "    layer.trainable = False"
   ]
  },
  {
   "cell_type": "code",
   "execution_count": 5,
   "id": "cb0c4091",
   "metadata": {},
   "outputs": [],
   "source": [
    "# We need to know how many classes does our train folder have so we know what outputs we will be getting \n",
    "folders = glob(r\"C:\\Users\\Jaideep Naroo\\Downloads\\archive(1)\\chest_xray\\train\\*\")"
   ]
  },
  {
   "cell_type": "code",
   "execution_count": 6,
   "id": "74dfefab",
   "metadata": {},
   "outputs": [],
   "source": [
    "# We will make one Flatten Layer\n",
    "x= Flatten()(vgg.output)"
   ]
  },
  {
   "cell_type": "code",
   "execution_count": 7,
   "id": "ebeaa4f7",
   "metadata": {},
   "outputs": [],
   "source": [
    "# we will add our last layer\n",
    "prediction = Dense(len(folders),activation='softmax')(x) \n",
    "\n",
    "# create our model object\n",
    "model=Model(inputs=vgg.input, outputs=prediction)"
   ]
  },
  {
   "cell_type": "code",
   "execution_count": 8,
   "id": "b41b2989",
   "metadata": {},
   "outputs": [
    {
     "name": "stdout",
     "output_type": "stream",
     "text": [
      "Model: \"model\"\n",
      "_________________________________________________________________\n",
      " Layer (type)                Output Shape              Param #   \n",
      "=================================================================\n",
      " input_1 (InputLayer)        [(None, 224, 224, 3)]     0         \n",
      "                                                                 \n",
      " block1_conv1 (Conv2D)       (None, 224, 224, 64)      1792      \n",
      "                                                                 \n",
      " block1_conv2 (Conv2D)       (None, 224, 224, 64)      36928     \n",
      "                                                                 \n",
      " block1_pool (MaxPooling2D)  (None, 112, 112, 64)      0         \n",
      "                                                                 \n",
      " block2_conv1 (Conv2D)       (None, 112, 112, 128)     73856     \n",
      "                                                                 \n",
      " block2_conv2 (Conv2D)       (None, 112, 112, 128)     147584    \n",
      "                                                                 \n",
      " block2_pool (MaxPooling2D)  (None, 56, 56, 128)       0         \n",
      "                                                                 \n",
      " block3_conv1 (Conv2D)       (None, 56, 56, 256)       295168    \n",
      "                                                                 \n",
      " block3_conv2 (Conv2D)       (None, 56, 56, 256)       590080    \n",
      "                                                                 \n",
      " block3_conv3 (Conv2D)       (None, 56, 56, 256)       590080    \n",
      "                                                                 \n",
      " block3_pool (MaxPooling2D)  (None, 28, 28, 256)       0         \n",
      "                                                                 \n",
      " block4_conv1 (Conv2D)       (None, 28, 28, 512)       1180160   \n",
      "                                                                 \n",
      " block4_conv2 (Conv2D)       (None, 28, 28, 512)       2359808   \n",
      "                                                                 \n",
      " block4_conv3 (Conv2D)       (None, 28, 28, 512)       2359808   \n",
      "                                                                 \n",
      " block4_pool (MaxPooling2D)  (None, 14, 14, 512)       0         \n",
      "                                                                 \n",
      " block5_conv1 (Conv2D)       (None, 14, 14, 512)       2359808   \n",
      "                                                                 \n",
      " block5_conv2 (Conv2D)       (None, 14, 14, 512)       2359808   \n",
      "                                                                 \n",
      " block5_conv3 (Conv2D)       (None, 14, 14, 512)       2359808   \n",
      "                                                                 \n",
      " block5_pool (MaxPooling2D)  (None, 7, 7, 512)         0         \n",
      "                                                                 \n",
      " flatten (Flatten)           (None, 25088)             0         \n",
      "                                                                 \n",
      " dense (Dense)               (None, 2)                 50178     \n",
      "                                                                 \n",
      "=================================================================\n",
      "Total params: 14,764,866\n",
      "Trainable params: 50,178\n",
      "Non-trainable params: 14,714,688\n",
      "_________________________________________________________________\n"
     ]
    }
   ],
   "source": [
    "#To view the structure of our model\n",
    "model.summary()\n",
    "# "
   ]
  },
  {
   "cell_type": "code",
   "execution_count": 9,
   "id": "f776c7c2",
   "metadata": {},
   "outputs": [],
   "source": [
    "#Model compilation using adam optimizer and accuracy\n",
    "model.compile(\n",
    "  loss='categorical_crossentropy',\n",
    "  optimizer = 'adam',\n",
    "  metrics=['accuracy']\n",
    ")"
   ]
  },
  {
   "cell_type": "code",
   "execution_count": 10,
   "id": "5a225a3f",
   "metadata": {},
   "outputs": [],
   "source": [
    "#using the image data generator to import the images from the dataset\n",
    "from keras.preprocessing.image import ImageDataGenerator\n",
    "\n",
    "train_datagen = ImageDataGenerator(rescale = 1./255,\n",
    "                                   shear_range = 0.2,\n",
    "                                   zoom_range = 0.2,\n",
    "                                   horizontal_flip = True)\n",
    "test_datagen = ImageDataGenerator(rescale=1./255)"
   ]
  },
  {
   "cell_type": "code",
   "execution_count": 11,
   "id": "13c3378b",
   "metadata": {},
   "outputs": [
    {
     "name": "stdout",
     "output_type": "stream",
     "text": [
      "Found 5216 images belonging to 2 classes.\n"
     ]
    }
   ],
   "source": [
    "# We will be now inserting some images  via flow from directory\n",
    "# Make sure u provide the same target size as initialized for the image size\n",
    "training_set = train_datagen.flow_from_directory(r\"C:\\Users\\Jaideep Naroo\\Downloads\\archive(1)\\chest_xray\\train\",\n",
    "                                                 target_size = (224, 224),\n",
    "                                                 batch_size = 32,\n",
    "                                                 class_mode = 'categorical')"
   ]
  },
  {
   "cell_type": "code",
   "execution_count": 12,
   "id": "f38d2a87",
   "metadata": {},
   "outputs": [
    {
     "name": "stdout",
     "output_type": "stream",
     "text": [
      "Found 624 images belonging to 2 classes.\n"
     ]
    }
   ],
   "source": [
    "test_set = test_datagen.flow_from_directory(r\"C:\\Users\\Jaideep Naroo\\Downloads\\archive(1)\\chest_xray\\test\",\n",
    "                                                 target_size = (224, 224),\n",
    "                                                 batch_size = 32,\n",
    "                                                 class_mode = 'categorical')"
   ]
  },
  {
   "cell_type": "code",
   "execution_count": 13,
   "id": "3d101e55",
   "metadata": {},
   "outputs": [
    {
     "name": "stdout",
     "output_type": "stream",
     "text": [
      "Epoch 1/5\n",
      "163/163 [==============================] - 1019s 6s/step - loss: 0.2299 - accuracy: 0.9124 - val_loss: 0.3187 - val_accuracy: 0.8926\n",
      "Epoch 2/5\n",
      "163/163 [==============================] - 1853s 11s/step - loss: 0.1132 - accuracy: 0.9561 - val_loss: 0.2295 - val_accuracy: 0.9151\n",
      "Epoch 3/5\n",
      "163/163 [==============================] - 1041s 6s/step - loss: 0.0884 - accuracy: 0.9668 - val_loss: 0.2423 - val_accuracy: 0.9119\n",
      "Epoch 4/5\n",
      "163/163 [==============================] - 1180s 7s/step - loss: 0.0939 - accuracy: 0.9657 - val_loss: 0.6078 - val_accuracy: 0.8365\n",
      "Epoch 5/5\n",
      "163/163 [==============================] - 1060s 7s/step - loss: 0.0852 - accuracy: 0.9664 - val_loss: 0.2431 - val_accuracy: 0.9231\n"
     ]
    }
   ],
   "source": [
    "r = model.fit(\n",
    "  training_set,\n",
    "  validation_data=test_set,\n",
    "  epochs=5,\n",
    "  steps_per_epoch=len(training_set),\n",
    "  validation_steps=len(test_set)\n",
    " )"
   ]
  },
  {
   "cell_type": "code",
   "execution_count": 14,
   "id": "468e7d61",
   "metadata": {},
   "outputs": [],
   "source": [
    "# save it as a h5 file\n",
    "\n",
    "import tensorflow as tf\n",
    "\n",
    "from keras.models import load_model\n",
    "\n",
    "model.save('model_vgg16.h5')\n",
    "\n"
   ]
  },
  {
   "cell_type": "code",
   "execution_count": 32,
   "id": "1b8b1f1d",
   "metadata": {},
   "outputs": [],
   "source": [
    "from keras.models import load_model\n",
    "from keras.preprocessing import image\n",
    "from keras.applications.vgg16 import preprocess_input\n",
    "from tensorflow.keras.utils import load_img\n",
    "from tensorflow.keras.utils import img_to_array\n",
    "import numpy as np"
   ]
  },
  {
   "cell_type": "code",
   "execution_count": 34,
   "id": "19a127a1",
   "metadata": {},
   "outputs": [],
   "source": [
    "model = load_model('model_vgg16.h5')\n",
    "img = tf.keras.utils.load_img(r\"C:\\Users\\Jaideep Naroo\\Downloads\\archive(1)\\chest_xray\\train\\PNEUMONIA\\person9_bacteria_40.jpeg\", target_size=(224, 224))\n",
    "x = tf.keras.utils.img_to_array(img)"
   ]
  },
  {
   "cell_type": "code",
   "execution_count": 35,
   "id": "601bb22d",
   "metadata": {},
   "outputs": [
    {
     "name": "stdout",
     "output_type": "stream",
     "text": [
      "1/1 [==============================] - 0s 445ms/step\n"
     ]
    }
   ],
   "source": [
    "x= np.expand_dims(x, axis=0)\n",
    "img_data = preprocess_input(x)\n",
    "classes = model.predict(img_data)"
   ]
  },
  {
   "cell_type": "code",
   "execution_count": 53,
   "id": "9e0298c3",
   "metadata": {},
   "outputs": [
    {
     "name": "stdout",
     "output_type": "stream",
     "text": [
      "163/163 [==============================] - 1063s 7s/step - loss: 0.0752 - accuracy: 0.9724\n",
      "The accuracy of model is 97.23926186561584 %\n"
     ]
    }
   ],
   "source": [
    "\n",
    "\n",
    "acc=model.evaluate(training_set)[1]\n",
    "print(f\"The accuracy of model is {acc*100} %\")\n",
    "\n"
   ]
  },
  {
   "cell_type": "code",
   "execution_count": null,
   "id": "b7786d28",
   "metadata": {},
   "outputs": [],
   "source": []
  }
 ],
 "metadata": {
  "kernelspec": {
   "display_name": "Python 3 (ipykernel)",
   "language": "python",
   "name": "python3"
  },
  "language_info": {
   "codemirror_mode": {
    "name": "ipython",
    "version": 3
   },
   "file_extension": ".py",
   "mimetype": "text/x-python",
   "name": "python",
   "nbconvert_exporter": "python",
   "pygments_lexer": "ipython3",
   "version": "3.7.13"
  }
 },
 "nbformat": 4,
 "nbformat_minor": 5
}
